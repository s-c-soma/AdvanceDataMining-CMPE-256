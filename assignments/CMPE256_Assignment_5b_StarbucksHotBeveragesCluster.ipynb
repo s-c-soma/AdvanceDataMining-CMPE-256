{
  "nbformat": 4,
  "nbformat_minor": 0,
  "metadata": {
    "colab": {
      "name": "CMPE256_Assignment_5b_StarbucksHotBeveragesCluster.ipynb",
      "provenance": [],
      "toc_visible": true,
      "authorship_tag": "ABX9TyOn/gMTelhwrhZTROg90+4f",
      "include_colab_link": true
    },
    "kernelspec": {
      "name": "python3",
      "display_name": "Python 3"
    },
    "language_info": {
      "name": "python"
    }
  },
  "cells": [
    {
      "cell_type": "markdown",
      "metadata": {
        "id": "view-in-github",
        "colab_type": "text"
      },
      "source": [
        "<a href=\"https://colab.research.google.com/github/s-c-soma/AdvanceDataMining-CMPE-256/blob/main/assignments/CMPE256_Assignment_5b_StarbucksHotBeveragesCluster.ipynb\" target=\"_parent\"><img src=\"https://colab.research.google.com/assets/colab-badge.svg\" alt=\"Open In Colab\"/></a>"
      ]
    },
    {
      "cell_type": "code",
      "metadata": {
        "id": "MIP909ZsmG1E"
      },
      "source": [
        ""
      ],
      "execution_count": null,
      "outputs": []
    },
    {
      "cell_type": "markdown",
      "metadata": {
        "id": "6qbFvjBPMEws"
      },
      "source": [
        "#Assignment_5b: Starbucks Hot Beverages Hierarchical Clustering(Agglomerative)\n",
        "\n"
      ]
    },
    {
      "cell_type": "code",
      "metadata": {
        "id": "DQq7i2Ad5Q0w"
      },
      "source": [
        "import numpy as np\n",
        "\n",
        "X = np.array ([\n",
        "[1,7],\n",
        "[1,5],\n",
        "[2,9],\n",
        "[2,6],\n",
        "[3,9],\n",
        "[3,8],\n",
        "[3,6],\n",
        "[3,3],\n",
        "[4,8],\n",
        "[4,5],\n",
        "[5,7],\n",
        "[5,4],\n",
        "[6,9],\n",
        "[7,9],\n",
        "[7,3],\n",
        "[7,2],\n",
        "[8,7],\n",
        "[8,1],])\n"
      ],
      "execution_count": 1,
      "outputs": []
    },
    {
      "cell_type": "markdown",
      "metadata": {
        "id": "EoKbGClq2QZn"
      },
      "source": [
        "## Compute Distance Matrix"
      ]
    },
    {
      "cell_type": "code",
      "metadata": {
        "id": "BkNf5NbH1gQ2"
      },
      "source": [
        "import pandas as pd\n",
        "from scipy.spatial import distance_matrix\n",
        "\n",
        "data = [\n",
        "[1,7],\n",
        "[1,5],\n",
        "[2,9],\n",
        "[2,6],\n",
        "[3,9],\n",
        "[3,8],\n",
        "[3,6],\n",
        "[3,3],\n",
        "[4,8],\n",
        "[4,5],\n",
        "[5,7],\n",
        "[5,4],\n",
        "[6,9],\n",
        "[7,9],\n",
        "[7,3],\n",
        "[7,2],\n",
        "[8,7],\n",
        "[8,1]\n",
        "]\n",
        "\n",
        "names = [str(i) for i in range(1, len(data) +1)]\n",
        "\n",
        "df = pd.DataFrame(data, columns=['xcord', 'ycord'], index=names)"
      ],
      "execution_count": 2,
      "outputs": []
    },
    {
      "cell_type": "code",
      "metadata": {
        "id": "P6Z1lfs_2JVj",
        "colab": {
          "base_uri": "https://localhost:8080/",
          "height": 623
        },
        "outputId": "7f40ddeb-76a4-46fd-8289-911bdc630885"
      },
      "source": [
        " df2 = pd.DataFrame(distance_matrix(df.values, df.values), index=df.index, columns=df.index)\n",
        " df2\n",
        "#  df2.to_excel(\"output.xlsx\")"
      ],
      "execution_count": 3,
      "outputs": [
        {
          "output_type": "execute_result",
          "data": {
            "text/html": [
              "<div>\n",
              "<style scoped>\n",
              "    .dataframe tbody tr th:only-of-type {\n",
              "        vertical-align: middle;\n",
              "    }\n",
              "\n",
              "    .dataframe tbody tr th {\n",
              "        vertical-align: top;\n",
              "    }\n",
              "\n",
              "    .dataframe thead th {\n",
              "        text-align: right;\n",
              "    }\n",
              "</style>\n",
              "<table border=\"1\" class=\"dataframe\">\n",
              "  <thead>\n",
              "    <tr style=\"text-align: right;\">\n",
              "      <th></th>\n",
              "      <th>1</th>\n",
              "      <th>2</th>\n",
              "      <th>3</th>\n",
              "      <th>4</th>\n",
              "      <th>5</th>\n",
              "      <th>6</th>\n",
              "      <th>7</th>\n",
              "      <th>8</th>\n",
              "      <th>9</th>\n",
              "      <th>10</th>\n",
              "      <th>11</th>\n",
              "      <th>12</th>\n",
              "      <th>13</th>\n",
              "      <th>14</th>\n",
              "      <th>15</th>\n",
              "      <th>16</th>\n",
              "      <th>17</th>\n",
              "      <th>18</th>\n",
              "    </tr>\n",
              "  </thead>\n",
              "  <tbody>\n",
              "    <tr>\n",
              "      <th>1</th>\n",
              "      <td>0.000000</td>\n",
              "      <td>2.000000</td>\n",
              "      <td>2.236068</td>\n",
              "      <td>1.414214</td>\n",
              "      <td>2.828427</td>\n",
              "      <td>2.236068</td>\n",
              "      <td>2.236068</td>\n",
              "      <td>4.472136</td>\n",
              "      <td>3.162278</td>\n",
              "      <td>3.605551</td>\n",
              "      <td>4.000000</td>\n",
              "      <td>5.000000</td>\n",
              "      <td>5.385165</td>\n",
              "      <td>6.324555</td>\n",
              "      <td>7.211103</td>\n",
              "      <td>7.810250</td>\n",
              "      <td>7.000000</td>\n",
              "      <td>9.219544</td>\n",
              "    </tr>\n",
              "    <tr>\n",
              "      <th>2</th>\n",
              "      <td>2.000000</td>\n",
              "      <td>0.000000</td>\n",
              "      <td>4.123106</td>\n",
              "      <td>1.414214</td>\n",
              "      <td>4.472136</td>\n",
              "      <td>3.605551</td>\n",
              "      <td>2.236068</td>\n",
              "      <td>2.828427</td>\n",
              "      <td>4.242641</td>\n",
              "      <td>3.000000</td>\n",
              "      <td>4.472136</td>\n",
              "      <td>4.123106</td>\n",
              "      <td>6.403124</td>\n",
              "      <td>7.211103</td>\n",
              "      <td>6.324555</td>\n",
              "      <td>6.708204</td>\n",
              "      <td>7.280110</td>\n",
              "      <td>8.062258</td>\n",
              "    </tr>\n",
              "    <tr>\n",
              "      <th>3</th>\n",
              "      <td>2.236068</td>\n",
              "      <td>4.123106</td>\n",
              "      <td>0.000000</td>\n",
              "      <td>3.000000</td>\n",
              "      <td>1.000000</td>\n",
              "      <td>1.414214</td>\n",
              "      <td>3.162278</td>\n",
              "      <td>6.082763</td>\n",
              "      <td>2.236068</td>\n",
              "      <td>4.472136</td>\n",
              "      <td>3.605551</td>\n",
              "      <td>5.830952</td>\n",
              "      <td>4.000000</td>\n",
              "      <td>5.000000</td>\n",
              "      <td>7.810250</td>\n",
              "      <td>8.602325</td>\n",
              "      <td>6.324555</td>\n",
              "      <td>10.000000</td>\n",
              "    </tr>\n",
              "    <tr>\n",
              "      <th>4</th>\n",
              "      <td>1.414214</td>\n",
              "      <td>1.414214</td>\n",
              "      <td>3.000000</td>\n",
              "      <td>0.000000</td>\n",
              "      <td>3.162278</td>\n",
              "      <td>2.236068</td>\n",
              "      <td>1.000000</td>\n",
              "      <td>3.162278</td>\n",
              "      <td>2.828427</td>\n",
              "      <td>2.236068</td>\n",
              "      <td>3.162278</td>\n",
              "      <td>3.605551</td>\n",
              "      <td>5.000000</td>\n",
              "      <td>5.830952</td>\n",
              "      <td>5.830952</td>\n",
              "      <td>6.403124</td>\n",
              "      <td>6.082763</td>\n",
              "      <td>7.810250</td>\n",
              "    </tr>\n",
              "    <tr>\n",
              "      <th>5</th>\n",
              "      <td>2.828427</td>\n",
              "      <td>4.472136</td>\n",
              "      <td>1.000000</td>\n",
              "      <td>3.162278</td>\n",
              "      <td>0.000000</td>\n",
              "      <td>1.000000</td>\n",
              "      <td>3.000000</td>\n",
              "      <td>6.000000</td>\n",
              "      <td>1.414214</td>\n",
              "      <td>4.123106</td>\n",
              "      <td>2.828427</td>\n",
              "      <td>5.385165</td>\n",
              "      <td>3.000000</td>\n",
              "      <td>4.000000</td>\n",
              "      <td>7.211103</td>\n",
              "      <td>8.062258</td>\n",
              "      <td>5.385165</td>\n",
              "      <td>9.433981</td>\n",
              "    </tr>\n",
              "    <tr>\n",
              "      <th>6</th>\n",
              "      <td>2.236068</td>\n",
              "      <td>3.605551</td>\n",
              "      <td>1.414214</td>\n",
              "      <td>2.236068</td>\n",
              "      <td>1.000000</td>\n",
              "      <td>0.000000</td>\n",
              "      <td>2.000000</td>\n",
              "      <td>5.000000</td>\n",
              "      <td>1.000000</td>\n",
              "      <td>3.162278</td>\n",
              "      <td>2.236068</td>\n",
              "      <td>4.472136</td>\n",
              "      <td>3.162278</td>\n",
              "      <td>4.123106</td>\n",
              "      <td>6.403124</td>\n",
              "      <td>7.211103</td>\n",
              "      <td>5.099020</td>\n",
              "      <td>8.602325</td>\n",
              "    </tr>\n",
              "    <tr>\n",
              "      <th>7</th>\n",
              "      <td>2.236068</td>\n",
              "      <td>2.236068</td>\n",
              "      <td>3.162278</td>\n",
              "      <td>1.000000</td>\n",
              "      <td>3.000000</td>\n",
              "      <td>2.000000</td>\n",
              "      <td>0.000000</td>\n",
              "      <td>3.000000</td>\n",
              "      <td>2.236068</td>\n",
              "      <td>1.414214</td>\n",
              "      <td>2.236068</td>\n",
              "      <td>2.828427</td>\n",
              "      <td>4.242641</td>\n",
              "      <td>5.000000</td>\n",
              "      <td>5.000000</td>\n",
              "      <td>5.656854</td>\n",
              "      <td>5.099020</td>\n",
              "      <td>7.071068</td>\n",
              "    </tr>\n",
              "    <tr>\n",
              "      <th>8</th>\n",
              "      <td>4.472136</td>\n",
              "      <td>2.828427</td>\n",
              "      <td>6.082763</td>\n",
              "      <td>3.162278</td>\n",
              "      <td>6.000000</td>\n",
              "      <td>5.000000</td>\n",
              "      <td>3.000000</td>\n",
              "      <td>0.000000</td>\n",
              "      <td>5.099020</td>\n",
              "      <td>2.236068</td>\n",
              "      <td>4.472136</td>\n",
              "      <td>2.236068</td>\n",
              "      <td>6.708204</td>\n",
              "      <td>7.211103</td>\n",
              "      <td>4.000000</td>\n",
              "      <td>4.123106</td>\n",
              "      <td>6.403124</td>\n",
              "      <td>5.385165</td>\n",
              "    </tr>\n",
              "    <tr>\n",
              "      <th>9</th>\n",
              "      <td>3.162278</td>\n",
              "      <td>4.242641</td>\n",
              "      <td>2.236068</td>\n",
              "      <td>2.828427</td>\n",
              "      <td>1.414214</td>\n",
              "      <td>1.000000</td>\n",
              "      <td>2.236068</td>\n",
              "      <td>5.099020</td>\n",
              "      <td>0.000000</td>\n",
              "      <td>3.000000</td>\n",
              "      <td>1.414214</td>\n",
              "      <td>4.123106</td>\n",
              "      <td>2.236068</td>\n",
              "      <td>3.162278</td>\n",
              "      <td>5.830952</td>\n",
              "      <td>6.708204</td>\n",
              "      <td>4.123106</td>\n",
              "      <td>8.062258</td>\n",
              "    </tr>\n",
              "    <tr>\n",
              "      <th>10</th>\n",
              "      <td>3.605551</td>\n",
              "      <td>3.000000</td>\n",
              "      <td>4.472136</td>\n",
              "      <td>2.236068</td>\n",
              "      <td>4.123106</td>\n",
              "      <td>3.162278</td>\n",
              "      <td>1.414214</td>\n",
              "      <td>2.236068</td>\n",
              "      <td>3.000000</td>\n",
              "      <td>0.000000</td>\n",
              "      <td>2.236068</td>\n",
              "      <td>1.414214</td>\n",
              "      <td>4.472136</td>\n",
              "      <td>5.000000</td>\n",
              "      <td>3.605551</td>\n",
              "      <td>4.242641</td>\n",
              "      <td>4.472136</td>\n",
              "      <td>5.656854</td>\n",
              "    </tr>\n",
              "    <tr>\n",
              "      <th>11</th>\n",
              "      <td>4.000000</td>\n",
              "      <td>4.472136</td>\n",
              "      <td>3.605551</td>\n",
              "      <td>3.162278</td>\n",
              "      <td>2.828427</td>\n",
              "      <td>2.236068</td>\n",
              "      <td>2.236068</td>\n",
              "      <td>4.472136</td>\n",
              "      <td>1.414214</td>\n",
              "      <td>2.236068</td>\n",
              "      <td>0.000000</td>\n",
              "      <td>3.000000</td>\n",
              "      <td>2.236068</td>\n",
              "      <td>2.828427</td>\n",
              "      <td>4.472136</td>\n",
              "      <td>5.385165</td>\n",
              "      <td>3.000000</td>\n",
              "      <td>6.708204</td>\n",
              "    </tr>\n",
              "    <tr>\n",
              "      <th>12</th>\n",
              "      <td>5.000000</td>\n",
              "      <td>4.123106</td>\n",
              "      <td>5.830952</td>\n",
              "      <td>3.605551</td>\n",
              "      <td>5.385165</td>\n",
              "      <td>4.472136</td>\n",
              "      <td>2.828427</td>\n",
              "      <td>2.236068</td>\n",
              "      <td>4.123106</td>\n",
              "      <td>1.414214</td>\n",
              "      <td>3.000000</td>\n",
              "      <td>0.000000</td>\n",
              "      <td>5.099020</td>\n",
              "      <td>5.385165</td>\n",
              "      <td>2.236068</td>\n",
              "      <td>2.828427</td>\n",
              "      <td>4.242641</td>\n",
              "      <td>4.242641</td>\n",
              "    </tr>\n",
              "    <tr>\n",
              "      <th>13</th>\n",
              "      <td>5.385165</td>\n",
              "      <td>6.403124</td>\n",
              "      <td>4.000000</td>\n",
              "      <td>5.000000</td>\n",
              "      <td>3.000000</td>\n",
              "      <td>3.162278</td>\n",
              "      <td>4.242641</td>\n",
              "      <td>6.708204</td>\n",
              "      <td>2.236068</td>\n",
              "      <td>4.472136</td>\n",
              "      <td>2.236068</td>\n",
              "      <td>5.099020</td>\n",
              "      <td>0.000000</td>\n",
              "      <td>1.000000</td>\n",
              "      <td>6.082763</td>\n",
              "      <td>7.071068</td>\n",
              "      <td>2.828427</td>\n",
              "      <td>8.246211</td>\n",
              "    </tr>\n",
              "    <tr>\n",
              "      <th>14</th>\n",
              "      <td>6.324555</td>\n",
              "      <td>7.211103</td>\n",
              "      <td>5.000000</td>\n",
              "      <td>5.830952</td>\n",
              "      <td>4.000000</td>\n",
              "      <td>4.123106</td>\n",
              "      <td>5.000000</td>\n",
              "      <td>7.211103</td>\n",
              "      <td>3.162278</td>\n",
              "      <td>5.000000</td>\n",
              "      <td>2.828427</td>\n",
              "      <td>5.385165</td>\n",
              "      <td>1.000000</td>\n",
              "      <td>0.000000</td>\n",
              "      <td>6.000000</td>\n",
              "      <td>7.000000</td>\n",
              "      <td>2.236068</td>\n",
              "      <td>8.062258</td>\n",
              "    </tr>\n",
              "    <tr>\n",
              "      <th>15</th>\n",
              "      <td>7.211103</td>\n",
              "      <td>6.324555</td>\n",
              "      <td>7.810250</td>\n",
              "      <td>5.830952</td>\n",
              "      <td>7.211103</td>\n",
              "      <td>6.403124</td>\n",
              "      <td>5.000000</td>\n",
              "      <td>4.000000</td>\n",
              "      <td>5.830952</td>\n",
              "      <td>3.605551</td>\n",
              "      <td>4.472136</td>\n",
              "      <td>2.236068</td>\n",
              "      <td>6.082763</td>\n",
              "      <td>6.000000</td>\n",
              "      <td>0.000000</td>\n",
              "      <td>1.000000</td>\n",
              "      <td>4.123106</td>\n",
              "      <td>2.236068</td>\n",
              "    </tr>\n",
              "    <tr>\n",
              "      <th>16</th>\n",
              "      <td>7.810250</td>\n",
              "      <td>6.708204</td>\n",
              "      <td>8.602325</td>\n",
              "      <td>6.403124</td>\n",
              "      <td>8.062258</td>\n",
              "      <td>7.211103</td>\n",
              "      <td>5.656854</td>\n",
              "      <td>4.123106</td>\n",
              "      <td>6.708204</td>\n",
              "      <td>4.242641</td>\n",
              "      <td>5.385165</td>\n",
              "      <td>2.828427</td>\n",
              "      <td>7.071068</td>\n",
              "      <td>7.000000</td>\n",
              "      <td>1.000000</td>\n",
              "      <td>0.000000</td>\n",
              "      <td>5.099020</td>\n",
              "      <td>1.414214</td>\n",
              "    </tr>\n",
              "    <tr>\n",
              "      <th>17</th>\n",
              "      <td>7.000000</td>\n",
              "      <td>7.280110</td>\n",
              "      <td>6.324555</td>\n",
              "      <td>6.082763</td>\n",
              "      <td>5.385165</td>\n",
              "      <td>5.099020</td>\n",
              "      <td>5.099020</td>\n",
              "      <td>6.403124</td>\n",
              "      <td>4.123106</td>\n",
              "      <td>4.472136</td>\n",
              "      <td>3.000000</td>\n",
              "      <td>4.242641</td>\n",
              "      <td>2.828427</td>\n",
              "      <td>2.236068</td>\n",
              "      <td>4.123106</td>\n",
              "      <td>5.099020</td>\n",
              "      <td>0.000000</td>\n",
              "      <td>6.000000</td>\n",
              "    </tr>\n",
              "    <tr>\n",
              "      <th>18</th>\n",
              "      <td>9.219544</td>\n",
              "      <td>8.062258</td>\n",
              "      <td>10.000000</td>\n",
              "      <td>7.810250</td>\n",
              "      <td>9.433981</td>\n",
              "      <td>8.602325</td>\n",
              "      <td>7.071068</td>\n",
              "      <td>5.385165</td>\n",
              "      <td>8.062258</td>\n",
              "      <td>5.656854</td>\n",
              "      <td>6.708204</td>\n",
              "      <td>4.242641</td>\n",
              "      <td>8.246211</td>\n",
              "      <td>8.062258</td>\n",
              "      <td>2.236068</td>\n",
              "      <td>1.414214</td>\n",
              "      <td>6.000000</td>\n",
              "      <td>0.000000</td>\n",
              "    </tr>\n",
              "  </tbody>\n",
              "</table>\n",
              "</div>"
            ],
            "text/plain": [
              "           1         2          3  ...        16        17         18\n",
              "1   0.000000  2.000000   2.236068  ...  7.810250  7.000000   9.219544\n",
              "2   2.000000  0.000000   4.123106  ...  6.708204  7.280110   8.062258\n",
              "3   2.236068  4.123106   0.000000  ...  8.602325  6.324555  10.000000\n",
              "4   1.414214  1.414214   3.000000  ...  6.403124  6.082763   7.810250\n",
              "5   2.828427  4.472136   1.000000  ...  8.062258  5.385165   9.433981\n",
              "6   2.236068  3.605551   1.414214  ...  7.211103  5.099020   8.602325\n",
              "7   2.236068  2.236068   3.162278  ...  5.656854  5.099020   7.071068\n",
              "8   4.472136  2.828427   6.082763  ...  4.123106  6.403124   5.385165\n",
              "9   3.162278  4.242641   2.236068  ...  6.708204  4.123106   8.062258\n",
              "10  3.605551  3.000000   4.472136  ...  4.242641  4.472136   5.656854\n",
              "11  4.000000  4.472136   3.605551  ...  5.385165  3.000000   6.708204\n",
              "12  5.000000  4.123106   5.830952  ...  2.828427  4.242641   4.242641\n",
              "13  5.385165  6.403124   4.000000  ...  7.071068  2.828427   8.246211\n",
              "14  6.324555  7.211103   5.000000  ...  7.000000  2.236068   8.062258\n",
              "15  7.211103  6.324555   7.810250  ...  1.000000  4.123106   2.236068\n",
              "16  7.810250  6.708204   8.602325  ...  0.000000  5.099020   1.414214\n",
              "17  7.000000  7.280110   6.324555  ...  5.099020  0.000000   6.000000\n",
              "18  9.219544  8.062258  10.000000  ...  1.414214  6.000000   0.000000\n",
              "\n",
              "[18 rows x 18 columns]"
            ]
          },
          "metadata": {},
          "execution_count": 3
        }
      ]
    },
    {
      "cell_type": "code",
      "metadata": {
        "colab": {
          "base_uri": "https://localhost:8080/"
        },
        "id": "3azAqS-iETnS",
        "outputId": "2a18044b-1afe-426c-c657-71055fddd890"
      },
      "source": [
        "import math\n",
        "\n",
        "x1 , y1 = (12,6)\n",
        "x2 , y2 = (9,3)\n",
        "dist = math.sqrt( (x2 - x1)**2 + (y2 - y1)**2 )\n",
        "print(\"dist=\", dist)"
      ],
      "execution_count": 4,
      "outputs": [
        {
          "output_type": "stream",
          "name": "stdout",
          "text": [
            "dist= 4.242640687119285\n"
          ]
        }
      ]
    },
    {
      "cell_type": "markdown",
      "metadata": {
        "id": "NjWxJVJ8OMp8"
      },
      "source": [
        "## Plot Data Points"
      ]
    },
    {
      "cell_type": "code",
      "metadata": {
        "colab": {
          "base_uri": "https://localhost:8080/",
          "height": 441
        },
        "id": "PaHZs7Jd9Bet",
        "outputId": "42fed11f-9dfb-4bf5-d6ef-cf2a82c913f0"
      },
      "source": [
        "import matplotlib.pyplot as plt\n",
        "# x = [1,2,3,4]\n",
        "# y = [1,4,9,16]\n",
        "# plt.plot(x, y, 'ro')\n",
        "# plt.axis([0, 6, 0, 20])\n",
        "labels = range(1, 15)\n",
        "plt.figure(figsize =(15, 7))\n",
        "plt.subplots_adjust(bottom=0.1)\n",
        "plt.scatter(X[:,0],X[:,1], label='True Position')\n",
        "\n",
        "for label, x, y in zip(labels, X[:, 0], X[:, 1]):\n",
        "    plt.text(x, y, '({}, {})'.format(x, x))\n",
        "\n",
        "plt.show()"
      ],
      "execution_count": 5,
      "outputs": [
        {
          "output_type": "display_data",
          "data": {
            "image/png": "[encoded data removed]",
            "text/plain": [
              "<Figure size 1080x504 with 1 Axes>"
            ]
          },
          "metadata": {
            "needs_background": "light"
          }
        }
      ]
    },
    {
      "cell_type": "code",
      "metadata": {
        "colab": {
          "base_uri": "https://localhost:8080/",
          "height": 441
        },
        "id": "xenCWmu_5ZfI",
        "outputId": "d5c52e8b-00e4-425c-92ce-1f0625c0b026"
      },
      "source": [
        "import matplotlib.pyplot as plt\n",
        "\n",
        "labels = range(1, 19)\n",
        "plt.figure(figsize =(10, 7))\n",
        "plt.subplots_adjust(bottom=0.1)\n",
        "plt.scatter(X[:,0],X[:,1], label='True Position')\n",
        "\n",
        "for label, x, y in zip(labels, X[:, 0], X[:, 1]):\n",
        "  plt.annotate( label, xy =(x, y), xytext= (-3, 3), textcoords='offset points', ha='right', va ='bottom')\n",
        "plt.show()"
      ],
      "execution_count": 6,
      "outputs": [
        {
          "output_type": "display_data",
          "data": {
            "image/png": "[encoded data removed]",
            "text/plain": [
              "<Figure size 720x504 with 1 Axes>"
            ]
          },
          "metadata": {
            "needs_background": "light"
          }
        }
      ]
    },
    {
      "cell_type": "markdown",
      "metadata": {
        "id": "us00Nw6bpmEl"
      },
      "source": [
        "## Single-link"
      ]
    },
    {
      "cell_type": "code",
      "metadata": {
        "colab": {
          "base_uri": "https://localhost:8080/",
          "height": 448
        },
        "id": "PvEP0Ilq6-j_",
        "outputId": "76cea24b-137f-46f1-915a-c910dd315e32"
      },
      "source": [
        "from scipy.cluster.hierarchy import dendrogram, linkage\n",
        "from matplotlib import pyplot as plt\n",
        "\n",
        "print (\"n single link cluster n\")\n",
        "linked = linkage(X, 'single')\n",
        "labelList = range(0,19)\n",
        "\n",
        "plt.figure(figsize =(10, 7))\n",
        "dendrogram(linked,orientation='top',labels= labelList, distance_sort = 'descending',show_leaf_counts = True)\n",
        "plt.show()\n",
        "\n"
      ],
      "execution_count": 7,
      "outputs": [
        {
          "output_type": "stream",
          "name": "stdout",
          "text": [
            "n single link cluster n\n"
          ]
        },
        {
          "output_type": "display_data",
          "data": {
            "image/png": "[encoded data removed]",
            "text/plain": [
              "<Figure size 720x504 with 1 Axes>"
            ]
          },
          "metadata": {
            "needs_background": "light"
          }
        }
      ]
    },
    {
      "cell_type": "markdown",
      "metadata": {
        "id": "mnwrpFAzpzCV"
      },
      "source": [
        "## Complete-link"
      ]
    },
    {
      "cell_type": "code",
      "metadata": {
        "colab": {
          "base_uri": "https://localhost:8080/",
          "height": 448
        },
        "id": "h0OFN8Ty8CH6",
        "outputId": "a5bd62bd-ca6b-405e-b24a-7702aba828ca"
      },
      "source": [
        "print (\"n complete link cluster n\")\n",
        "linked_complete= linkage(X, 'complete')\n",
        "labelList = range(0,19)\n",
        "plt.figure(figsize =(10, 7))\n",
        "dendrogram(linked_complete,orientation='top',labels= labelList, distance_sort = 'descending',show_leaf_counts = True)\n",
        "plt.show()"
      ],
      "execution_count": 8,
      "outputs": [
        {
          "output_type": "stream",
          "name": "stdout",
          "text": [
            "n complete link cluster n\n"
          ]
        },
        {
          "output_type": "display_data",
          "data": {
            "image/png": "[encoded data removed]",
            "text/plain": [
              "<Figure size 720x504 with 1 Axes>"
            ]
          },
          "metadata": {
            "needs_background": "light"
          }
        }
      ]
    },
    {
      "cell_type": "markdown",
      "metadata": {
        "id": "q8s2qJszp4Ar"
      },
      "source": [
        "## Average-link"
      ]
    },
    {
      "cell_type": "code",
      "metadata": {
        "colab": {
          "base_uri": "https://localhost:8080/",
          "height": 448
        },
        "id": "YIW2pTiV8Nn2",
        "outputId": "ce2f6bd8-7644-4df2-ace7-fc197f68c626"
      },
      "source": [
        "print (\"n average link cluster n\")\n",
        "linked_average= linkage(X, 'average')\n",
        "labelList = range(0,19)\n",
        "plt.figure(figsize =(10, 7))\n",
        "dendrogram(linked_average,orientation='top',labels= labelList, distance_sort = 'descending',show_leaf_counts = True)\n",
        "plt.show()"
      ],
      "execution_count": 9,
      "outputs": [
        {
          "output_type": "stream",
          "name": "stdout",
          "text": [
            "n average link cluster n\n"
          ]
        },
        {
          "output_type": "display_data",
          "data": {
            "image/png": "[encoded data removed]",
            "text/plain": [
              "<Figure size 720x504 with 1 Axes>"
            ]
          },
          "metadata": {
            "needs_background": "light"
          }
        }
      ]
    }
  ]
}