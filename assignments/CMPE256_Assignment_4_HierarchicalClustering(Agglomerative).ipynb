{
  "nbformat": 4,
  "nbformat_minor": 0,
  "metadata": {
    "colab": {
      "name": "CMPE256_Assignment_4_HierarchicalClustering(Agglomerative).ipynb",
      "provenance": [],
      "toc_visible": true,
      "authorship_tag": "ABX9TyMBNs0BFhe4BJRxWoi6jZmb",
      "include_colab_link": true
    },
    "kernelspec": {
      "name": "python3",
      "display_name": "Python 3"
    },
    "language_info": {
      "name": "python"
    }
  },
  "cells": [
    {
      "cell_type": "markdown",
      "metadata": {
        "id": "view-in-github",
        "colab_type": "text"
      },
      "source": [
        "<a href=\"https://colab.research.google.com/github/s-c-soma/AdvanceDataMining-CMPE-256/blob/main/assignments/CMPE256_Assignment_4_HierarchicalClustering(Agglomerative).ipynb\" target=\"_parent\"><img src=\"https://colab.research.google.com/assets/colab-badge.svg\" alt=\"Open In Colab\"/></a>"
      ]
    },
    {
      "cell_type": "markdown",
      "metadata": {
        "id": "6qbFvjBPMEws"
      },
      "source": [
        "#Assignment: Hierarchical Clustering(Agglomerative)"
      ]
    },
    {
      "cell_type": "code",
      "metadata": {
        "id": "DQq7i2Ad5Q0w"
      },
      "source": [
        "import numpy as np\n",
        "\n",
        "X = np.array ([\n",
        "[3,7],\n",
        "[2,6],\n",
        "[2,2],\n",
        "[5,8],\n",
        "[5,5],\n",
        "[5,2],\n",
        "[6,6],\n",
        "[8,4],\n",
        "[7,3],\n",
        "[10,6],\n",
        "[12,8],])\n"
      ],
      "execution_count": 12,
      "outputs": []
    },
    {
      "cell_type": "markdown",
      "metadata": {
        "id": "EoKbGClq2QZn"
      },
      "source": [
        "## Compute Distance Matrix"
      ]
    },
    {
      "cell_type": "code",
      "metadata": {
        "id": "BkNf5NbH1gQ2"
      },
      "source": [
        "import pandas as pd\n",
        "from scipy.spatial import distance_matrix\n",
        "\n",
        "data = [[3,7],\n",
        "[2,6],\n",
        "[2,2],\n",
        "[5,8],\n",
        "[5,5],\n",
        "[5,2],\n",
        "[6,6],\n",
        "[8,4],\n",
        "[7,3],\n",
        "[10,6],\n",
        "[12,8]]\n",
        "\n",
        "names = [str(i) for i in range(1, len(data) +1)]\n",
        "\n",
        "df = pd.DataFrame(data, columns=['xcord', 'ycord'], index=names)"
      ],
      "execution_count": 14,
      "outputs": []
    },
    {
      "cell_type": "code",
      "metadata": {
        "colab": {
          "base_uri": "https://localhost:8080/",
          "height": 388
        },
        "id": "P6Z1lfs_2JVj",
        "outputId": "d52ec26f-9b63-4033-ca7e-ebc32a36a336"
      },
      "source": [
        " pd.DataFrame(distance_matrix(df.values, df.values), index=df.index, columns=df.index)"
      ],
      "execution_count": 15,
      "outputs": [
        {
          "output_type": "execute_result",
          "data": {
            "text/html": [
              "<div>\n",
              "<style scoped>\n",
              "    .dataframe tbody tr th:only-of-type {\n",
              "        vertical-align: middle;\n",
              "    }\n",
              "\n",
              "    .dataframe tbody tr th {\n",
              "        vertical-align: top;\n",
              "    }\n",
              "\n",
              "    .dataframe thead th {\n",
              "        text-align: right;\n",
              "    }\n",
              "</style>\n",
              "<table border=\"1\" class=\"dataframe\">\n",
              "  <thead>\n",
              "    <tr style=\"text-align: right;\">\n",
              "      <th></th>\n",
              "      <th>1</th>\n",
              "      <th>2</th>\n",
              "      <th>3</th>\n",
              "      <th>4</th>\n",
              "      <th>5</th>\n",
              "      <th>6</th>\n",
              "      <th>7</th>\n",
              "      <th>8</th>\n",
              "      <th>9</th>\n",
              "      <th>10</th>\n",
              "      <th>11</th>\n",
              "    </tr>\n",
              "  </thead>\n",
              "  <tbody>\n",
              "    <tr>\n",
              "      <th>1</th>\n",
              "      <td>0.000000</td>\n",
              "      <td>1.414214</td>\n",
              "      <td>5.099020</td>\n",
              "      <td>2.236068</td>\n",
              "      <td>2.828427</td>\n",
              "      <td>5.385165</td>\n",
              "      <td>3.162278</td>\n",
              "      <td>5.830952</td>\n",
              "      <td>5.656854</td>\n",
              "      <td>7.071068</td>\n",
              "      <td>9.055385</td>\n",
              "    </tr>\n",
              "    <tr>\n",
              "      <th>2</th>\n",
              "      <td>1.414214</td>\n",
              "      <td>0.000000</td>\n",
              "      <td>4.000000</td>\n",
              "      <td>3.605551</td>\n",
              "      <td>3.162278</td>\n",
              "      <td>5.000000</td>\n",
              "      <td>4.000000</td>\n",
              "      <td>6.324555</td>\n",
              "      <td>5.830952</td>\n",
              "      <td>8.000000</td>\n",
              "      <td>10.198039</td>\n",
              "    </tr>\n",
              "    <tr>\n",
              "      <th>3</th>\n",
              "      <td>5.099020</td>\n",
              "      <td>4.000000</td>\n",
              "      <td>0.000000</td>\n",
              "      <td>6.708204</td>\n",
              "      <td>4.242641</td>\n",
              "      <td>3.000000</td>\n",
              "      <td>5.656854</td>\n",
              "      <td>6.324555</td>\n",
              "      <td>5.099020</td>\n",
              "      <td>8.944272</td>\n",
              "      <td>11.661904</td>\n",
              "    </tr>\n",
              "    <tr>\n",
              "      <th>4</th>\n",
              "      <td>2.236068</td>\n",
              "      <td>3.605551</td>\n",
              "      <td>6.708204</td>\n",
              "      <td>0.000000</td>\n",
              "      <td>3.000000</td>\n",
              "      <td>6.000000</td>\n",
              "      <td>2.236068</td>\n",
              "      <td>5.000000</td>\n",
              "      <td>5.385165</td>\n",
              "      <td>5.385165</td>\n",
              "      <td>7.000000</td>\n",
              "    </tr>\n",
              "    <tr>\n",
              "      <th>5</th>\n",
              "      <td>2.828427</td>\n",
              "      <td>3.162278</td>\n",
              "      <td>4.242641</td>\n",
              "      <td>3.000000</td>\n",
              "      <td>0.000000</td>\n",
              "      <td>3.000000</td>\n",
              "      <td>1.414214</td>\n",
              "      <td>3.162278</td>\n",
              "      <td>2.828427</td>\n",
              "      <td>5.099020</td>\n",
              "      <td>7.615773</td>\n",
              "    </tr>\n",
              "    <tr>\n",
              "      <th>6</th>\n",
              "      <td>5.385165</td>\n",
              "      <td>5.000000</td>\n",
              "      <td>3.000000</td>\n",
              "      <td>6.000000</td>\n",
              "      <td>3.000000</td>\n",
              "      <td>0.000000</td>\n",
              "      <td>4.123106</td>\n",
              "      <td>3.605551</td>\n",
              "      <td>2.236068</td>\n",
              "      <td>6.403124</td>\n",
              "      <td>9.219544</td>\n",
              "    </tr>\n",
              "    <tr>\n",
              "      <th>7</th>\n",
              "      <td>3.162278</td>\n",
              "      <td>4.000000</td>\n",
              "      <td>5.656854</td>\n",
              "      <td>2.236068</td>\n",
              "      <td>1.414214</td>\n",
              "      <td>4.123106</td>\n",
              "      <td>0.000000</td>\n",
              "      <td>2.828427</td>\n",
              "      <td>3.162278</td>\n",
              "      <td>4.000000</td>\n",
              "      <td>6.324555</td>\n",
              "    </tr>\n",
              "    <tr>\n",
              "      <th>8</th>\n",
              "      <td>5.830952</td>\n",
              "      <td>6.324555</td>\n",
              "      <td>6.324555</td>\n",
              "      <td>5.000000</td>\n",
              "      <td>3.162278</td>\n",
              "      <td>3.605551</td>\n",
              "      <td>2.828427</td>\n",
              "      <td>0.000000</td>\n",
              "      <td>1.414214</td>\n",
              "      <td>2.828427</td>\n",
              "      <td>5.656854</td>\n",
              "    </tr>\n",
              "    <tr>\n",
              "      <th>9</th>\n",
              "      <td>5.656854</td>\n",
              "      <td>5.830952</td>\n",
              "      <td>5.099020</td>\n",
              "      <td>5.385165</td>\n",
              "      <td>2.828427</td>\n",
              "      <td>2.236068</td>\n",
              "      <td>3.162278</td>\n",
              "      <td>1.414214</td>\n",
              "      <td>0.000000</td>\n",
              "      <td>4.242641</td>\n",
              "      <td>7.071068</td>\n",
              "    </tr>\n",
              "    <tr>\n",
              "      <th>10</th>\n",
              "      <td>7.071068</td>\n",
              "      <td>8.000000</td>\n",
              "      <td>8.944272</td>\n",
              "      <td>5.385165</td>\n",
              "      <td>5.099020</td>\n",
              "      <td>6.403124</td>\n",
              "      <td>4.000000</td>\n",
              "      <td>2.828427</td>\n",
              "      <td>4.242641</td>\n",
              "      <td>0.000000</td>\n",
              "      <td>2.828427</td>\n",
              "    </tr>\n",
              "    <tr>\n",
              "      <th>11</th>\n",
              "      <td>9.055385</td>\n",
              "      <td>10.198039</td>\n",
              "      <td>11.661904</td>\n",
              "      <td>7.000000</td>\n",
              "      <td>7.615773</td>\n",
              "      <td>9.219544</td>\n",
              "      <td>6.324555</td>\n",
              "      <td>5.656854</td>\n",
              "      <td>7.071068</td>\n",
              "      <td>2.828427</td>\n",
              "      <td>0.000000</td>\n",
              "    </tr>\n",
              "  </tbody>\n",
              "</table>\n",
              "</div>"
            ],
            "text/plain": [
              "           1          2          3  ...         9        10         11\n",
              "1   0.000000   1.414214   5.099020  ...  5.656854  7.071068   9.055385\n",
              "2   1.414214   0.000000   4.000000  ...  5.830952  8.000000  10.198039\n",
              "3   5.099020   4.000000   0.000000  ...  5.099020  8.944272  11.661904\n",
              "4   2.236068   3.605551   6.708204  ...  5.385165  5.385165   7.000000\n",
              "5   2.828427   3.162278   4.242641  ...  2.828427  5.099020   7.615773\n",
              "6   5.385165   5.000000   3.000000  ...  2.236068  6.403124   9.219544\n",
              "7   3.162278   4.000000   5.656854  ...  3.162278  4.000000   6.324555\n",
              "8   5.830952   6.324555   6.324555  ...  1.414214  2.828427   5.656854\n",
              "9   5.656854   5.830952   5.099020  ...  0.000000  4.242641   7.071068\n",
              "10  7.071068   8.000000   8.944272  ...  4.242641  0.000000   2.828427\n",
              "11  9.055385  10.198039  11.661904  ...  7.071068  2.828427   0.000000\n",
              "\n",
              "[11 rows x 11 columns]"
            ]
          },
          "metadata": {},
          "execution_count": 15
        }
      ]
    },
    {
      "cell_type": "code",
      "metadata": {
        "colab": {
          "base_uri": "https://localhost:8080/"
        },
        "id": "3azAqS-iETnS",
        "outputId": "5a8e21a8-346b-4b87-a9e3-79d90095d64e"
      },
      "source": [
        "import math\n",
        "\n",
        "x1 , y1 = (12,6)\n",
        "x2 , y2 = (9,3)\n",
        "dist = math.sqrt( (x2 - x1)**2 + (y2 - y1)**2 )\n",
        "print(\"dist=\", dist)"
      ],
      "execution_count": null,
      "outputs": [
        {
          "output_type": "stream",
          "name": "stdout",
          "text": [
            "dist= 4.242640687119285\n"
          ]
        }
      ]
    },
    {
      "cell_type": "markdown",
      "metadata": {
        "id": "FytmpQRXOIxt"
      },
      "source": [
        "## Distance compute- for matrix"
      ]
    },
    {
      "cell_type": "code",
      "metadata": {
        "colab": {
          "base_uri": "https://localhost:8080/"
        },
        "id": "P6D6_CJvOLdd",
        "outputId": "48876b79-9bfe-492e-e36d-a31ac5ed781f"
      },
      "source": [
        "num_list = [\n",
        "\n",
        "\n",
        "\n",
        "\n",
        "\n",
        "\n",
        "\n",
        "\n",
        "\n",
        "\n",
        "\n",
        "[3,3]    \n",
        "]\n",
        "i =1\n",
        "x2 , y2 = [3,6]\n",
        "\n",
        "for x1, y1 in num_list:\n",
        "  dist = math.sqrt( (x2 - x1)**2 + (y2 - y1)**2 )\n",
        "  # print(\"i=\", i , \" dist= \", dist)\n",
        "  print(dist)\n",
        "  i += 1"
      ],
      "execution_count": null,
      "outputs": [
        {
          "output_type": "stream",
          "name": "stdout",
          "text": [
            "3.0\n"
          ]
        }
      ]
    },
    {
      "cell_type": "markdown",
      "metadata": {
        "id": "NjWxJVJ8OMp8"
      },
      "source": [
        "## Plot Data Points"
      ]
    },
    {
      "cell_type": "code",
      "metadata": {
        "colab": {
          "base_uri": "https://localhost:8080/",
          "height": 441
        },
        "id": "PaHZs7Jd9Bet",
        "outputId": "f081a499-9ee6-4db9-cae9-f0d5f1b24596"
      },
      "source": [
        "import matplotlib.pyplot as plt\n",
        "# x = [1,2,3,4]\n",
        "# y = [1,4,9,16]\n",
        "# plt.plot(x, y, 'ro')\n",
        "# plt.axis([0, 6, 0, 20])\n",
        "labels = range(1, 15)\n",
        "plt.figure(figsize =(15, 7))\n",
        "plt.subplots_adjust(bottom=0.1)\n",
        "plt.scatter(X[:,0],X[:,1], label='True Position')\n",
        "\n",
        "for label, x, y in zip(labels, X[:, 0], X[:, 1]):\n",
        "    plt.text(x, y, '({}, {})'.format(x, x))\n",
        "\n",
        "plt.show()"
      ],
      "execution_count": null,
      "outputs": [
        {
          "output_type": "display_data",
          "data": {
            "image/png": "[encoded data removed]",
            "text/plain": [
              "<Figure size 1080x504 with 1 Axes>"
            ]
          },
          "metadata": {
            "needs_background": "light"
          }
        }
      ]
    },
    {
      "cell_type": "code",
      "metadata": {
        "colab": {
          "base_uri": "https://localhost:8080/",
          "height": 441
        },
        "id": "xenCWmu_5ZfI",
        "outputId": "14a84d98-4459-490f-96fe-f2eaf9a7cb1a"
      },
      "source": [
        "import matplotlib.pyplot as plt\n",
        "\n",
        "labels = range(1, 13)\n",
        "plt.figure(figsize =(10, 7))\n",
        "plt.subplots_adjust(bottom=0.1)\n",
        "plt.scatter(X[:,0],X[:,1], label='True Position')\n",
        "\n",
        "for label, x, y in zip(labels, X[:, 0], X[:, 1]):\n",
        "  plt.annotate( label, xy =(x, y), xytext= (-3, 3), textcoords='offset points', ha='right', va ='bottom')\n",
        "plt.show()"
      ],
      "execution_count": 16,
      "outputs": [
        {
          "output_type": "display_data",
          "data": {
            "image/png": "[encoded data removed]",
            "text/plain": [
              "<Figure size 720x504 with 1 Axes>"
            ]
          },
          "metadata": {
            "needs_background": "light"
          }
        }
      ]
    },
    {
      "cell_type": "markdown",
      "metadata": {
        "id": "us00Nw6bpmEl"
      },
      "source": [
        "## Single-link"
      ]
    },
    {
      "cell_type": "code",
      "metadata": {
        "colab": {
          "base_uri": "https://localhost:8080/",
          "height": 448
        },
        "id": "PvEP0Ilq6-j_",
        "outputId": "d7e39bcc-c0c5-4de2-bb90-300d34021ee0"
      },
      "source": [
        "from scipy.cluster.hierarchy import dendrogram, linkage\n",
        "from matplotlib import pyplot as plt\n",
        "\n",
        "print (\"n single link cluster n\")\n",
        "linked = linkage(X, 'single')\n",
        "labelList = range(0,12)\n",
        "\n",
        "plt.figure(figsize =(10, 7))\n",
        "dendrogram(linked,orientation='top',labels= labelList, distance_sort = 'descending',show_leaf_counts = True)\n",
        "plt.show()\n",
        "\n"
      ],
      "execution_count": 18,
      "outputs": [
        {
          "output_type": "stream",
          "name": "stdout",
          "text": [
            "n single link cluster n\n"
          ]
        },
        {
          "output_type": "display_data",
          "data": {
            "image/png": "[encoded data removed]",
            "text/plain": [
              "<Figure size 720x504 with 1 Axes>"
            ]
          },
          "metadata": {
            "needs_background": "light"
          }
        }
      ]
    },
    {
      "cell_type": "markdown",
      "metadata": {
        "id": "mnwrpFAzpzCV"
      },
      "source": [
        "## Complete-link"
      ]
    },
    {
      "cell_type": "code",
      "metadata": {
        "colab": {
          "base_uri": "https://localhost:8080/",
          "height": 448
        },
        "id": "h0OFN8Ty8CH6",
        "outputId": "f9c3449b-b8c4-441e-8a4c-8283e0221db2"
      },
      "source": [
        "print (\"n complete link cluster n\")\n",
        "linked_complete= linkage(X, 'complete')\n",
        "labelList = range(0,12)\n",
        "plt.figure(figsize =(10, 7))\n",
        "dendrogram(linked_complete,orientation='top',labels= labelList, distance_sort = 'descending',show_leaf_counts = True)\n",
        "plt.show()"
      ],
      "execution_count": null,
      "outputs": [
        {
          "output_type": "stream",
          "name": "stdout",
          "text": [
            "n complete link cluster n\n"
          ]
        },
        {
          "output_type": "display_data",
          "data": {
            "image/png": "[encoded data removed]",
            "text/plain": [
              "<Figure size 720x504 with 1 Axes>"
            ]
          },
          "metadata": {
            "needs_background": "light"
          }
        }
      ]
    },
    {
      "cell_type": "markdown",
      "metadata": {
        "id": "q8s2qJszp4Ar"
      },
      "source": [
        "## Average-link"
      ]
    },
    {
      "cell_type": "code",
      "metadata": {
        "colab": {
          "base_uri": "https://localhost:8080/",
          "height": 448
        },
        "id": "YIW2pTiV8Nn2",
        "outputId": "c3724064-69b5-4a23-d2fb-d72c99eb9f2c"
      },
      "source": [
        "print (\"n average link cluster n\")\n",
        "linked_average= linkage(X, 'average')\n",
        "labelList = range(0,12)\n",
        "plt.figure(figsize =(10, 7))\n",
        "dendrogram(linked_average,orientation='top',labels= labelList, distance_sort = 'descending',show_leaf_counts = True)\n",
        "plt.show()"
      ],
      "execution_count": null,
      "outputs": [
        {
          "output_type": "stream",
          "name": "stdout",
          "text": [
            "n average link cluster n\n"
          ]
        },
        {
          "output_type": "display_data",
          "data": {
            "image/png": "[encoded data removed]",
            "text/plain": [
              "<Figure size 720x504 with 1 Axes>"
            ]
          },
          "metadata": {
            "needs_background": "light"
          }
        }
      ]
    },
    {
      "cell_type": "markdown",
      "metadata": {
        "id": "tBH_TrHhrAwM"
      },
      "source": [
        "# Single-Link from Scratch"
      ]
    },
    {
      "cell_type": "code",
      "metadata": {
        "id": "_5414iJerSOs"
      },
      "source": [
        "import numpy as np\n",
        "import matplotlib.pyplot as plt\n",
        "%matplotlib inline"
      ],
      "execution_count": 2,
      "outputs": []
    },
    {
      "cell_type": "code",
      "metadata": {
        "id": "YNa4_e_4rHDc"
      },
      "source": [
        "X = np.array ([\n",
        "[3,7],\n",
        "[2,6],\n",
        "[2,2],\n",
        "[5,8],\n",
        "[5,5],\n",
        "[5,2],\n",
        "[6,6],\n",
        "[8,4],\n",
        "[7,3],\n",
        "[10,6],\n",
        "[12,8]\n",
        "])"
      ],
      "execution_count": 8,
      "outputs": []
    },
    {
      "cell_type": "markdown",
      "metadata": {
        "id": "8-2hG1flrgkE"
      },
      "source": [
        "## Cluster Distance Computation"
      ]
    },
    {
      "cell_type": "code",
      "metadata": {
        "id": "bkCl2p3FrmeV"
      },
      "source": [
        "class Distance_computation_grid(object):\n",
        "    '''\n",
        "        class to enable the Computation of distance matrix \n",
        "    '''\n",
        "    def __init__(self):\n",
        "        pass\n",
        "    \n",
        "    def compute_distance(self,samples):\n",
        "        '''\n",
        "            Creates a matrix of distances between individual samples and clusters attained at a particular step\n",
        "        '''\n",
        "        Distance_mat = np.zeros((len(samples),len(samples)))\n",
        "        for i in range(Distance_mat.shape[0]):\n",
        "            for j in range(Distance_mat.shape[0]):\n",
        "                if i!=j:\n",
        "                    Distance_mat[i,j] = float(self.distance_calculate(samples[i],samples[j]))\n",
        "                else:\n",
        "                    Distance_mat[i,j] = 10**4\n",
        "        return Distance_mat\n",
        "    \n",
        "    \n",
        "    def distance_calculate(self,sample1,sample2):\n",
        "        '''\n",
        "            Distance calulated between two samples. The two samples can be both samples, both clusters or\n",
        "            one cluster and one sample. If both of them are samples/clusters, then simple norm is used. In other \n",
        "            cases, we refer it as an exception case and pass the samples as parameter to some function that \n",
        "            calculates the necessary distance between cluster and a sample\n",
        "        '''\n",
        "        dist = []\n",
        "        for i in range(len(sample1)):\n",
        "            for j in range(len(sample2)):\n",
        "                try:\n",
        "                    dist.append(np.linalg.norm(np.array(sample1[i])-np.array(sample2[j])))\n",
        "                except:\n",
        "                    dist.append(self.intersampledist(sample1[i],sample2[j]))\n",
        "        return min(dist)\n",
        "    \n",
        "    \n",
        "    def intersampledist(self,s1,s2):\n",
        "        '''\n",
        "            To be used in case we have one sample and one cluster . It takes the help of one \n",
        "            method 'interclusterdist' to compute the distances between elements of a cluster(which are\n",
        "            samples) and the actual sample given.\n",
        "        '''\n",
        "        if str(type(s2[0]))!='<class \\'list\\'>':\n",
        "            s2=[s2]\n",
        "        if str(type(s1[0]))!='<class \\'list\\'>':\n",
        "            s1=[s1]\n",
        "        m = len(s1)\n",
        "        n = len(s2)\n",
        "        dist = []\n",
        "        if n>=m:\n",
        "            for i in range(n):\n",
        "                for j in range(m):\n",
        "                    if (len(s2[i])>=len(s1[j])) and str(type(s2[i][0])!='<class \\'list\\'>'):\n",
        "                        dist.append(self.interclusterdist(s2[i],s1[j]))\n",
        "                    else:\n",
        "                        dist.append(np.linalg.norm(np.array(s2[i])-np.array(s1[j])))\n",
        "        else:\n",
        "            for i in range(m):\n",
        "                for j in range(n):\n",
        "                    if (len(s1[i])>=len(s2[j])) and str(type(s1[i][0])!='<class \\'list\\'>'):\n",
        "                        dist.append(self.interclusterdist(s1[i],s2[j]))\n",
        "                    else:\n",
        "                        dist.append(np.linalg.norm(np.array(s1[i])-np.array(s2[j])))\n",
        "        return min(dist)\n",
        "    \n",
        "    def interclusterdist(self,cl,sample):\n",
        "        if sample[0]!='<class \\'list\\'>':\n",
        "            sample = [sample]\n",
        "        dist   = []\n",
        "        for i in range(len(cl)):\n",
        "            for j in range(len(sample)):\n",
        "                dist.append(np.linalg.norm(np.array(cl[i])-np.array(sample[j])))\n",
        "        return min(dist)"
      ],
      "execution_count": 9,
      "outputs": []
    },
    {
      "cell_type": "markdown",
      "metadata": {
        "id": "H9mWU5ytrx9k"
      },
      "source": [
        "## Implementing the cluster Method"
      ]
    },
    {
      "cell_type": "code",
      "metadata": {
        "colab": {
          "base_uri": "https://localhost:8080/",
          "height": 1000
        },
        "id": "4VR1aiLUr0vQ",
        "outputId": "f7b23a7f-9c47-4fea-9e78-c28573292476"
      },
      "source": [
        "progression = [[i] for i in range(X.shape[0])]\n",
        "samples     = [[list(X[i])] for i in range(X.shape[0])]\n",
        "m = len(samples)\n",
        "distcal  = Distance_computation_grid()\n",
        "\n",
        "while m>1:\n",
        "    print('Sample size before clustering    :- ',m)\n",
        "    Distance_mat      = distcal.compute_distance(samples)\n",
        "    sample_ind_needed = np.where(Distance_mat==Distance_mat.min())[0]\n",
        "    value_to_add      = samples.pop(sample_ind_needed[1])\n",
        "    samples[sample_ind_needed[0]].append(value_to_add)\n",
        "    \n",
        "    print('Cluster Node 1                   :-',progression[sample_ind_needed[0]])\n",
        "    print('Cluster Node 2                   :-',progression[sample_ind_needed[1]])\n",
        "    \n",
        "    progression[sample_ind_needed[0]].append(progression[sample_ind_needed[1]])\n",
        "    progression[sample_ind_needed[0]] = [progression[sample_ind_needed[0]]]\n",
        "    v = progression.pop(sample_ind_needed[1])\n",
        "    m = len(samples)\n",
        "    \n",
        "    print('Progression(Current Sample)      :-',progression)\n",
        "    print('Cluster attained                 :-',progression[sample_ind_needed[0]])\n",
        "    print('Sample size after clustering     :-',m)\n",
        "    print('\\n')"
      ],
      "execution_count": 10,
      "outputs": [
        {
          "output_type": "stream",
          "name": "stdout",
          "text": [
            "Sample size before clustering    :-  11\n",
            "Cluster Node 1                   :- [0]\n",
            "Cluster Node 2                   :- [1]\n",
            "Progression(Current Sample)      :- [[[0, [1]]], [2], [3], [4], [5], [6], [7], [8], [9], [10]]\n",
            "Cluster attained                 :- [[0, [1]]]\n",
            "Sample size after clustering     :- 10\n",
            "\n",
            "\n",
            "Sample size before clustering    :-  10\n",
            "Cluster Node 1                   :- [4]\n",
            "Cluster Node 2                   :- [6]\n",
            "Progression(Current Sample)      :- [[[0, [1]]], [2], [3], [[4, [6]]], [5], [7], [8], [9], [10]]\n",
            "Cluster attained                 :- [[4, [6]]]\n",
            "Sample size after clustering     :- 9\n",
            "\n",
            "\n",
            "Sample size before clustering    :-  9\n",
            "Cluster Node 1                   :- [7]\n",
            "Cluster Node 2                   :- [8]\n",
            "Progression(Current Sample)      :- [[[0, [1]]], [2], [3], [[4, [6]]], [5], [[7, [8]]], [9], [10]]\n",
            "Cluster attained                 :- [[7, [8]]]\n",
            "Sample size after clustering     :- 8\n",
            "\n",
            "\n",
            "Sample size before clustering    :-  8\n",
            "Cluster Node 1                   :- [[0, [1]]]\n",
            "Cluster Node 2                   :- [3]\n",
            "Progression(Current Sample)      :- [[[[0, [1]], [3]]], [2], [[4, [6]]], [5], [[7, [8]]], [9], [10]]\n",
            "Cluster attained                 :- [[[0, [1]], [3]]]\n",
            "Sample size after clustering     :- 7\n",
            "\n",
            "\n",
            "Sample size before clustering    :-  7\n",
            "Cluster Node 1                   :- [[[0, [1]], [3]]]\n",
            "Cluster Node 2                   :- [[4, [6]]]\n",
            "Progression(Current Sample)      :- [[[[[0, [1]], [3]], [[4, [6]]]]], [2], [5], [[7, [8]]], [9], [10]]\n",
            "Cluster attained                 :- [[[[0, [1]], [3]], [[4, [6]]]]]\n",
            "Sample size after clustering     :- 6\n",
            "\n",
            "\n",
            "Sample size before clustering    :-  6\n",
            "Cluster Node 1                   :- [5]\n",
            "Cluster Node 2                   :- [[7, [8]]]\n",
            "Progression(Current Sample)      :- [[[[[0, [1]], [3]], [[4, [6]]]]], [2], [[5, [[7, [8]]]]], [9], [10]]\n",
            "Cluster attained                 :- [[5, [[7, [8]]]]]\n",
            "Sample size after clustering     :- 5\n",
            "\n",
            "\n",
            "Sample size before clustering    :-  5\n"
          ]
        },
        {
          "output_type": "stream",
          "name": "stderr",
          "text": [
            "/usr/local/lib/python3.7/dist-packages/ipykernel_launcher.py:33: VisibleDeprecationWarning: Creating an ndarray from ragged nested sequences (which is a list-or-tuple of lists-or-tuples-or ndarrays with different lengths or shapes) is deprecated. If you meant to do this, you must specify 'dtype=object' when creating the ndarray\n"
          ]
        },
        {
          "output_type": "error",
          "ename": "IndexError",
          "evalue": "ignored",
          "traceback": [
            "\u001b[0;31m---------------------------------------------------------------------------\u001b[0m",
            "\u001b[0;31mIndexError\u001b[0m                                Traceback (most recent call last)",
            "\u001b[0;32m<ipython-input-10-74894502fd41>\u001b[0m in \u001b[0;36m<module>\u001b[0;34m()\u001b[0m\n\u001b[1;32m      8\u001b[0m     \u001b[0mDistance_mat\u001b[0m      \u001b[0;34m=\u001b[0m \u001b[0mdistcal\u001b[0m\u001b[0;34m.\u001b[0m\u001b[0mcompute_distance\u001b[0m\u001b[0;34m(\u001b[0m\u001b[0msamples\u001b[0m\u001b[0;34m)\u001b[0m\u001b[0;34m\u001b[0m\u001b[0;34m\u001b[0m\u001b[0m\n\u001b[1;32m      9\u001b[0m     \u001b[0msample_ind_needed\u001b[0m \u001b[0;34m=\u001b[0m \u001b[0mnp\u001b[0m\u001b[0;34m.\u001b[0m\u001b[0mwhere\u001b[0m\u001b[0;34m(\u001b[0m\u001b[0mDistance_mat\u001b[0m\u001b[0;34m==\u001b[0m\u001b[0mDistance_mat\u001b[0m\u001b[0;34m.\u001b[0m\u001b[0mmin\u001b[0m\u001b[0;34m(\u001b[0m\u001b[0;34m)\u001b[0m\u001b[0;34m)\u001b[0m\u001b[0;34m[\u001b[0m\u001b[0;36m0\u001b[0m\u001b[0;34m]\u001b[0m\u001b[0;34m\u001b[0m\u001b[0;34m\u001b[0m\u001b[0m\n\u001b[0;32m---> 10\u001b[0;31m     \u001b[0mvalue_to_add\u001b[0m      \u001b[0;34m=\u001b[0m \u001b[0msamples\u001b[0m\u001b[0;34m.\u001b[0m\u001b[0mpop\u001b[0m\u001b[0;34m(\u001b[0m\u001b[0msample_ind_needed\u001b[0m\u001b[0;34m[\u001b[0m\u001b[0;36m1\u001b[0m\u001b[0;34m]\u001b[0m\u001b[0;34m)\u001b[0m\u001b[0;34m\u001b[0m\u001b[0;34m\u001b[0m\u001b[0m\n\u001b[0m\u001b[1;32m     11\u001b[0m     \u001b[0msamples\u001b[0m\u001b[0;34m[\u001b[0m\u001b[0msample_ind_needed\u001b[0m\u001b[0;34m[\u001b[0m\u001b[0;36m0\u001b[0m\u001b[0;34m]\u001b[0m\u001b[0;34m]\u001b[0m\u001b[0;34m.\u001b[0m\u001b[0mappend\u001b[0m\u001b[0;34m(\u001b[0m\u001b[0mvalue_to_add\u001b[0m\u001b[0;34m)\u001b[0m\u001b[0;34m\u001b[0m\u001b[0;34m\u001b[0m\u001b[0m\n\u001b[1;32m     12\u001b[0m \u001b[0;34m\u001b[0m\u001b[0m\n",
            "\u001b[0;31mIndexError\u001b[0m: index 1 is out of bounds for axis 0 with size 1"
          ]
        }
      ]
    },
    {
      "cell_type": "code",
      "metadata": {
        "colab": {
          "base_uri": "https://localhost:8080/",
          "height": 487
        },
        "id": "FSAGf_azsNcl",
        "outputId": "5c97fc71-5648-45ad-aa72-9334802354e6"
      },
      "source": [
        "from scipy.cluster.hierarchy import dendrogram, linkage\n",
        "from matplotlib import pyplot as plt\n",
        "Z = linkage(X, 'single')\n",
        "fig = plt.figure(figsize=(25, 10))\n",
        "dn = dendrogram(Z)"
      ],
      "execution_count": 11,
      "outputs": [
        {
          "output_type": "display_data",
          "data": {
            "image/png": "[encoded data removed]",
            "text/plain": [
              "<Figure size 1800x720 with 1 Axes>"
            ]
          },
          "metadata": {
            "needs_background": "light"
          }
        }
      ]
    }
  ]
}