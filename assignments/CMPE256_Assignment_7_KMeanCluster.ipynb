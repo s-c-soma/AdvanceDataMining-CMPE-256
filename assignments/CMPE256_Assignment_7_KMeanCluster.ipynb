{
  "nbformat": 4,
  "nbformat_minor": 0,
  "metadata": {
    "colab": {
      "name": "CMPE256_Assignment_7_KMeanCluster.ipynb",
      "provenance": [],
      "collapsed_sections": [],
      "toc_visible": true,
      "include_colab_link": true
    },
    "kernelspec": {
      "name": "python3",
      "display_name": "Python 3"
    }
  },
  "cells": [
    {
      "cell_type": "markdown",
      "metadata": {
        "id": "view-in-github",
        "colab_type": "text"
      },
      "source": [
        "<a href=\"https://colab.research.google.com/github/s-c-soma/AdvanceDataMining-CMPE-256/blob/main/assignments/CMPE256_Assignment_7_KMeanCluster.ipynb\" target=\"_parent\"><img src=\"https://colab.research.google.com/assets/colab-badge.svg\" alt=\"Open In Colab\"/></a>"
      ]
    },
    {
      "cell_type": "markdown",
      "metadata": {
        "id": "4_jyJlDdjh8S"
      },
      "source": [
        "# CMPE256_Assignment_6_KMeanCluster (Shopping Index & Income Index)\n",
        "\n",
        "\n",
        "\n",
        "---"
      ]
    },
    {
      "cell_type": "markdown",
      "metadata": {
        "id": "VKrDJpwFkBjD"
      },
      "source": [
        "## **Importing required libraries.**"
      ]
    },
    {
      "cell_type": "code",
      "metadata": {
        "id": "ylzo54aC-IZ2"
      },
      "source": [
        "import numpy as np\n",
        "import pandas as pd\n",
        "import matplotlib.pyplot as plt\n",
        "from sklearn import datasets\n",
        "import seaborn as sns\n",
        "from sklearn.cluster import KMeans"
      ],
      "execution_count": 2,
      "outputs": []
    },
    {
      "cell_type": "markdown",
      "metadata": {
        "id": "tqN86RkPkGI5"
      },
      "source": [
        "## **Loading the Dataset**"
      ]
    },
    {
      "cell_type": "code",
      "metadata": {
        "id": "xDjf0MlO_Eir",
        "colab": {
          "base_uri": "https://localhost:8080/"
        },
        "outputId": "b9da42d7-5fd9-4a1f-8b0c-46535b10882f"
      },
      "source": [
        "data = pd.read_csv('kmeans_data.csv')\n",
        "data\n",
        "print(\"Dataset loaded successfully\")"
      ],
      "execution_count": 3,
      "outputs": [
        {
          "output_type": "stream",
          "name": "stdout",
          "text": [
            "Dataset loaded successfully\n"
          ]
        }
      ]
    },
    {
      "cell_type": "markdown",
      "metadata": {
        "id": "Nt32wZkVkuWq"
      },
      "source": [
        "## **Exploratory Data Analysis**"
      ]
    },
    {
      "cell_type": "markdown",
      "metadata": {
        "id": "xh6G8YPek1bb"
      },
      "source": [
        "### **Reading Dataset**"
      ]
    },
    {
      "cell_type": "code",
      "metadata": {
        "id": "pXar_FzXkOPn",
        "colab": {
          "base_uri": "https://localhost:8080/",
          "height": 203
        },
        "outputId": "03164b93-d129-4349-9b3e-c605dd5dafd0"
      },
      "source": [
        "#Creating data frame \n",
        "Data = data\n",
        "#Top values of Dataset\n",
        "Data.head()"
      ],
      "execution_count": 4,
      "outputs": [
        {
          "output_type": "execute_result",
          "data": {
            "text/html": [
              "<div>\n",
              "<style scoped>\n",
              "    .dataframe tbody tr th:only-of-type {\n",
              "        vertical-align: middle;\n",
              "    }\n",
              "\n",
              "    .dataframe tbody tr th {\n",
              "        vertical-align: top;\n",
              "    }\n",
              "\n",
              "    .dataframe thead th {\n",
              "        text-align: right;\n",
              "    }\n",
              "</style>\n",
              "<table border=\"1\" class=\"dataframe\">\n",
              "  <thead>\n",
              "    <tr style=\"text-align: right;\">\n",
              "      <th></th>\n",
              "      <th>SpendingIndex</th>\n",
              "      <th>IncomeIndex</th>\n",
              "    </tr>\n",
              "  </thead>\n",
              "  <tbody>\n",
              "    <tr>\n",
              "      <th>0</th>\n",
              "      <td>3</td>\n",
              "      <td>5</td>\n",
              "    </tr>\n",
              "    <tr>\n",
              "      <th>1</th>\n",
              "      <td>3</td>\n",
              "      <td>4</td>\n",
              "    </tr>\n",
              "    <tr>\n",
              "      <th>2</th>\n",
              "      <td>5</td>\n",
              "      <td>6</td>\n",
              "    </tr>\n",
              "    <tr>\n",
              "      <th>3</th>\n",
              "      <td>2</td>\n",
              "      <td>6</td>\n",
              "    </tr>\n",
              "    <tr>\n",
              "      <th>4</th>\n",
              "      <td>4</td>\n",
              "      <td>5</td>\n",
              "    </tr>\n",
              "  </tbody>\n",
              "</table>\n",
              "</div>"
            ],
            "text/plain": [
              "   SpendingIndex  IncomeIndex\n",
              "0              3            5\n",
              "1              3            4\n",
              "2              5            6\n",
              "3              2            6\n",
              "4              4            5"
            ]
          },
          "metadata": {},
          "execution_count": 4
        }
      ]
    },
    {
      "cell_type": "code",
      "metadata": {
        "id": "Fcgx0VQ4lFKa",
        "colab": {
          "base_uri": "https://localhost:8080/",
          "height": 203
        },
        "outputId": "a8ec231d-95f0-4925-f6cf-c1ff880bda48"
      },
      "source": [
        "#Bottom Values of Dataset\n",
        "Data.tail()"
      ],
      "execution_count": 5,
      "outputs": [
        {
          "output_type": "execute_result",
          "data": {
            "text/html": [
              "<div>\n",
              "<style scoped>\n",
              "    .dataframe tbody tr th:only-of-type {\n",
              "        vertical-align: middle;\n",
              "    }\n",
              "\n",
              "    .dataframe tbody tr th {\n",
              "        vertical-align: top;\n",
              "    }\n",
              "\n",
              "    .dataframe thead th {\n",
              "        text-align: right;\n",
              "    }\n",
              "</style>\n",
              "<table border=\"1\" class=\"dataframe\">\n",
              "  <thead>\n",
              "    <tr style=\"text-align: right;\">\n",
              "      <th></th>\n",
              "      <th>SpendingIndex</th>\n",
              "      <th>IncomeIndex</th>\n",
              "    </tr>\n",
              "  </thead>\n",
              "  <tbody>\n",
              "    <tr>\n",
              "      <th>12</th>\n",
              "      <td>9</td>\n",
              "      <td>1</td>\n",
              "    </tr>\n",
              "    <tr>\n",
              "      <th>13</th>\n",
              "      <td>8</td>\n",
              "      <td>2</td>\n",
              "    </tr>\n",
              "    <tr>\n",
              "      <th>14</th>\n",
              "      <td>9</td>\n",
              "      <td>6</td>\n",
              "    </tr>\n",
              "    <tr>\n",
              "      <th>15</th>\n",
              "      <td>9</td>\n",
              "      <td>1</td>\n",
              "    </tr>\n",
              "    <tr>\n",
              "      <th>16</th>\n",
              "      <td>8</td>\n",
              "      <td>3</td>\n",
              "    </tr>\n",
              "  </tbody>\n",
              "</table>\n",
              "</div>"
            ],
            "text/plain": [
              "    SpendingIndex  IncomeIndex\n",
              "12              9            1\n",
              "13              8            2\n",
              "14              9            6\n",
              "15              9            1\n",
              "16              8            3"
            ]
          },
          "metadata": {},
          "execution_count": 5
        }
      ]
    },
    {
      "cell_type": "markdown",
      "metadata": {
        "id": "gTa1An2elcbj"
      },
      "source": [
        "### **Shape of Data**"
      ]
    },
    {
      "cell_type": "code",
      "metadata": {
        "id": "xTTan0zxlYeu",
        "colab": {
          "base_uri": "https://localhost:8080/"
        },
        "outputId": "dda7b202-c1da-4770-ad83-2b244b697aa7"
      },
      "source": [
        "Data.shape"
      ],
      "execution_count": 6,
      "outputs": [
        {
          "output_type": "execute_result",
          "data": {
            "text/plain": [
              "(17, 2)"
            ]
          },
          "metadata": {},
          "execution_count": 6
        }
      ]
    },
    {
      "cell_type": "markdown",
      "metadata": {
        "id": "P88QNiIDlk2p"
      },
      "source": [
        "### **Data Information**"
      ]
    },
    {
      "cell_type": "code",
      "metadata": {
        "id": "SIOoF2UsleTR",
        "colab": {
          "base_uri": "https://localhost:8080/"
        },
        "outputId": "4bb6c966-a95b-4ce5-b4ad-7ae288f2b131"
      },
      "source": [
        "Data.info()"
      ],
      "execution_count": 7,
      "outputs": [
        {
          "output_type": "stream",
          "name": "stdout",
          "text": [
            "<class 'pandas.core.frame.DataFrame'>\n",
            "RangeIndex: 17 entries, 0 to 16\n",
            "Data columns (total 2 columns):\n",
            " #   Column         Non-Null Count  Dtype\n",
            "---  ------         --------------  -----\n",
            " 0   SpendingIndex  17 non-null     int64\n",
            " 1   IncomeIndex    17 non-null     int64\n",
            "dtypes: int64(2)\n",
            "memory usage: 400.0 bytes\n"
          ]
        }
      ]
    },
    {
      "cell_type": "markdown",
      "metadata": {
        "id": "l_FobnXhlqJS"
      },
      "source": [
        "From above one can clearly see that there is no null vlues. "
      ]
    },
    {
      "cell_type": "markdown",
      "metadata": {
        "id": "U6GtQpWhoeyt"
      },
      "source": [
        "### **Statistical Properties of Dataset**"
      ]
    },
    {
      "cell_type": "code",
      "metadata": {
        "id": "XcsnRMZylmvu",
        "colab": {
          "base_uri": "https://localhost:8080/",
          "height": 295
        },
        "outputId": "a8e69ae9-4921-4f48-ea79-c1b14ae8e764"
      },
      "source": [
        "Data.describe()"
      ],
      "execution_count": 8,
      "outputs": [
        {
          "output_type": "execute_result",
          "data": {
            "text/html": [
              "<div>\n",
              "<style scoped>\n",
              "    .dataframe tbody tr th:only-of-type {\n",
              "        vertical-align: middle;\n",
              "    }\n",
              "\n",
              "    .dataframe tbody tr th {\n",
              "        vertical-align: top;\n",
              "    }\n",
              "\n",
              "    .dataframe thead th {\n",
              "        text-align: right;\n",
              "    }\n",
              "</style>\n",
              "<table border=\"1\" class=\"dataframe\">\n",
              "  <thead>\n",
              "    <tr style=\"text-align: right;\">\n",
              "      <th></th>\n",
              "      <th>SpendingIndex</th>\n",
              "      <th>IncomeIndex</th>\n",
              "    </tr>\n",
              "  </thead>\n",
              "  <tbody>\n",
              "    <tr>\n",
              "      <th>count</th>\n",
              "      <td>17.000000</td>\n",
              "      <td>17.000000</td>\n",
              "    </tr>\n",
              "    <tr>\n",
              "      <th>mean</th>\n",
              "      <td>6.117647</td>\n",
              "      <td>4.235294</td>\n",
              "    </tr>\n",
              "    <tr>\n",
              "      <th>std</th>\n",
              "      <td>2.232777</td>\n",
              "      <td>2.165912</td>\n",
              "    </tr>\n",
              "    <tr>\n",
              "      <th>min</th>\n",
              "      <td>2.000000</td>\n",
              "      <td>1.000000</td>\n",
              "    </tr>\n",
              "    <tr>\n",
              "      <th>25%</th>\n",
              "      <td>5.000000</td>\n",
              "      <td>2.000000</td>\n",
              "    </tr>\n",
              "    <tr>\n",
              "      <th>50%</th>\n",
              "      <td>6.000000</td>\n",
              "      <td>5.000000</td>\n",
              "    </tr>\n",
              "    <tr>\n",
              "      <th>75%</th>\n",
              "      <td>8.000000</td>\n",
              "      <td>6.000000</td>\n",
              "    </tr>\n",
              "    <tr>\n",
              "      <th>max</th>\n",
              "      <td>9.000000</td>\n",
              "      <td>8.000000</td>\n",
              "    </tr>\n",
              "  </tbody>\n",
              "</table>\n",
              "</div>"
            ],
            "text/plain": [
              "       SpendingIndex  IncomeIndex\n",
              "count      17.000000    17.000000\n",
              "mean        6.117647     4.235294\n",
              "std         2.232777     2.165912\n",
              "min         2.000000     1.000000\n",
              "25%         5.000000     2.000000\n",
              "50%         6.000000     5.000000\n",
              "75%         8.000000     6.000000\n",
              "max         9.000000     8.000000"
            ]
          },
          "metadata": {},
          "execution_count": 8
        }
      ]
    },
    {
      "cell_type": "markdown",
      "metadata": {
        "id": "2LWlK_84onaG"
      },
      "source": [
        "### **Data Visualization**\n"
      ]
    },
    {
      "cell_type": "code",
      "metadata": {
        "id": "JQ98rYoTohk4",
        "colab": {
          "base_uri": "https://localhost:8080/",
          "height": 286
        },
        "outputId": "8970e04c-c1ca-4771-aa27-5acfd026916c"
      },
      "source": [
        "sns.heatmap(Data.corr(), annot = True, linecolor='black')"
      ],
      "execution_count": 9,
      "outputs": [
        {
          "output_type": "execute_result",
          "data": {
            "text/plain": [
              "<matplotlib.axes._subplots.AxesSubplot at 0x7f8972637b50>"
            ]
          },
          "metadata": {},
          "execution_count": 9
        },
        {
          "output_type": "display_data",
          "data": {
            "image/png": "[encoded data removed]",
            "text/plain": [
              "<Figure size 432x288 with 2 Axes>"
            ]
          },
          "metadata": {
            "needs_background": "light"
          }
        }
      ]
    },
    {
      "cell_type": "code",
      "metadata": {
        "id": "Hf1KvQLnoth_",
        "colab": {
          "base_uri": "https://localhost:8080/",
          "height": 281
        },
        "outputId": "9d5d579b-ac03-4f48-f9b7-ca084335b16f"
      },
      "source": [
        "Data.hist()\n",
        "plt.show()"
      ],
      "execution_count": 10,
      "outputs": [
        {
          "output_type": "display_data",
          "data": {
            "image/png": "[encoded data removed]",
            "text/plain": [
              "<Figure size 432x288 with 2 Axes>"
            ]
          },
          "metadata": {
            "needs_background": "light"
          }
        }
      ]
    },
    {
      "cell_type": "markdown",
      "metadata": {
        "id": "XZRbEmP-pAKj"
      },
      "source": [
        "## **Finding numbers of Clusters for Kmeans**\n",
        "\n",
        "*elbow*  Method to find the number of clusters"
      ]
    },
    {
      "cell_type": "code",
      "metadata": {
        "id": "ophemwwKoz1K",
        "colab": {
          "base_uri": "https://localhost:8080/",
          "height": 295
        },
        "outputId": "f9b67186-8b67-4db7-e734-81f3fd3de8c9"
      },
      "source": [
        "# Settin the data\n",
        "x=Data.iloc[:,0:3].values\n",
        "\n",
        "css=[]\n",
        "\n",
        "# Finding inertia on various k values\n",
        "for i in range(1,8):\n",
        "    kmeans=KMeans(n_clusters = i, init = 'k-means++', \n",
        "                    max_iter = 100, n_init = 10, random_state = 0).fit(x)\n",
        "    css.append(kmeans.inertia_)\n",
        "    \n",
        "plt.plot(range(1, 8), css, 'bx-', color='red')\n",
        "plt.title('The elbow method')\n",
        "plt.xlabel('Number of clusters')\n",
        "plt.ylabel('CSS') \n",
        "plt.show()\n",
        "\n"
      ],
      "execution_count": 11,
      "outputs": [
        {
          "output_type": "display_data",
          "data": {
            "image/png": "[encoded data removed]",
            "text/plain": [
              "<Figure size 432x288 with 1 Axes>"
            ]
          },
          "metadata": {
            "needs_background": "light"
          }
        }
      ]
    },
    {
      "cell_type": "markdown",
      "metadata": {
        "id": "jDks_NMQrxO0"
      },
      "source": [
        "From one can clearly see that according to the elbow method most accurate value for number of cluseter is 3. "
      ]
    },
    {
      "cell_type": "markdown",
      "metadata": {
        "id": "iF-KLgBpr_7V"
      },
      "source": [
        "## **Applying KMeans Classifier** : Cluster = 2"
      ]
    },
    {
      "cell_type": "code",
      "metadata": {
        "id": "L2KzDZvprf6j"
      },
      "source": [
        "#Applying Kmeans classifier\n",
        "kmeans = KMeans(n_clusters=2,init = 'k-means++', max_iter = 100, n_init = 10, random_state = 0)\n",
        "\n",
        "y_kmeans = kmeans.fit_predict(x)"
      ],
      "execution_count": 33,
      "outputs": []
    },
    {
      "cell_type": "markdown",
      "metadata": {
        "id": "ka9iP4I8uhS2"
      },
      "source": [
        "### **Visualizing the Clusters**\n",
        "\n",
        "\n"
      ]
    },
    {
      "cell_type": "code",
      "metadata": {
        "id": "iOQrOGgLvUMK",
        "colab": {
          "base_uri": "https://localhost:8080/"
        },
        "outputId": "4b217caf-a49e-4497-c353-569a53d73f49"
      },
      "source": [
        "kmeans.cluster_centers_"
      ],
      "execution_count": 34,
      "outputs": [
        {
          "output_type": "execute_result",
          "data": {
            "text/plain": [
              "array([[7.77777778, 2.77777778],\n",
              "       [4.25      , 5.875     ]])"
            ]
          },
          "metadata": {},
          "execution_count": 34
        }
      ]
    },
    {
      "cell_type": "code",
      "metadata": {
        "id": "woKwpcDwvcby",
        "colab": {
          "base_uri": "https://localhost:8080/",
          "height": 282
        },
        "outputId": "94826a56-1617-4a08-fc2a-e3a7cc5ebb75"
      },
      "source": [
        "# Visualising the clusters - On the first two columns\n",
        "plt.scatter(x[y_kmeans == 0, 0], x[y_kmeans == 0, 1], \n",
        "            s = 100, c = 'red', label = 'cluster-1')\n",
        "plt.scatter(x[y_kmeans == 1, 0], x[y_kmeans == 1, 1], \n",
        "            s = 100, c = 'blue', label = 'cluster-2')\n",
        "# plt.scatter(x[y_kmeans == 2, 0], x[y_kmeans == 2, 1],\n",
        "#             s = 100, c = 'green', label = '3')\n",
        "\n",
        "# Plotting the centroids of the clusters\n",
        "plt.scatter(kmeans.cluster_centers_[:, 0], kmeans.cluster_centers_[:,1], \n",
        "            s = 50, c = 'black', label = 'Centroids')\n",
        "\n",
        "plt.legend()"
      ],
      "execution_count": 35,
      "outputs": [
        {
          "output_type": "execute_result",
          "data": {
            "text/plain": [
              "<matplotlib.legend.Legend at 0x7f894df83e10>"
            ]
          },
          "metadata": {},
          "execution_count": 35
        },
        {
          "output_type": "display_data",
          "data": {
            "image/png": "[encoded data removed]",
            "text/plain": [
              "<Figure size 432x288 with 1 Axes>"
            ]
          },
          "metadata": {
            "needs_background": "light"
          }
        }
      ]
    },
    {
      "cell_type": "markdown",
      "metadata": {
        "id": "dXq8vjOtkgrQ"
      },
      "source": [
        "## **Applying KMeans Classifier** : Cluster = 3"
      ]
    },
    {
      "cell_type": "code",
      "metadata": {
        "id": "w2azJzJ8kgro"
      },
      "source": [
        "#Applying Kmeans classifier\n",
        "kmeans = KMeans(n_clusters=3,init = 'k-means++', max_iter = 100, n_init = 10, random_state = 0)\n",
        "\n",
        "y_kmeans = kmeans.fit_predict(x)"
      ],
      "execution_count": 36,
      "outputs": []
    },
    {
      "cell_type": "markdown",
      "metadata": {
        "id": "jH1Ix5Dekgrp"
      },
      "source": [
        "### **Visualizing the Clusters**\n",
        "\n",
        "\n"
      ]
    },
    {
      "cell_type": "code",
      "metadata": {
        "colab": {
          "base_uri": "https://localhost:8080/"
        },
        "id": "yDG-z_jSkgrq",
        "outputId": "5da29b3f-feb8-420a-9b9f-57c3fee9f64e"
      },
      "source": [
        "kmeans.cluster_centers_"
      ],
      "execution_count": 37,
      "outputs": [
        {
          "output_type": "execute_result",
          "data": {
            "text/plain": [
              "array([[7.25      , 6.5       ],\n",
              "       [3.66666667, 5.33333333],\n",
              "       [7.57142857, 2.        ]])"
            ]
          },
          "metadata": {},
          "execution_count": 37
        }
      ]
    },
    {
      "cell_type": "code",
      "metadata": {
        "colab": {
          "base_uri": "https://localhost:8080/",
          "height": 282
        },
        "id": "GNMTtpHGkgrq",
        "outputId": "6d45733c-bcaf-466e-86b5-b7fa64ab196b"
      },
      "source": [
        "# Visualising the clusters - On the first two columns\n",
        "plt.scatter(x[y_kmeans == 0, 0], x[y_kmeans == 0, 1], \n",
        "            s = 100, c = 'red', label = 'cluster-1')\n",
        "plt.scatter(x[y_kmeans == 1, 0], x[y_kmeans == 1, 1], \n",
        "            s = 100, c = 'blue', label = 'cluster-2')\n",
        "plt.scatter(x[y_kmeans == 2, 0], x[y_kmeans == 2, 1],\n",
        "            s = 100, c = 'green', label = 'cluster-3')\n",
        "\n",
        "# Plotting the centroids of the clusters\n",
        "plt.scatter(kmeans.cluster_centers_[:, 0], kmeans.cluster_centers_[:,1], \n",
        "            s = 50, c = 'black', label = 'Centroids')\n",
        "\n",
        "plt.legend()"
      ],
      "execution_count": 38,
      "outputs": [
        {
          "output_type": "execute_result",
          "data": {
            "text/plain": [
              "<matplotlib.legend.Legend at 0x7f894e3221d0>"
            ]
          },
          "metadata": {},
          "execution_count": 38
        },
        {
          "output_type": "display_data",
          "data": {
            "image/png": "[encoded data removed]",
            "text/plain": [
              "<Figure size 432x288 with 1 Axes>"
            ]
          },
          "metadata": {
            "needs_background": "light"
          }
        }
      ]
    },
    {
      "cell_type": "markdown",
      "metadata": {
        "id": "z-BrgxkUkpGK"
      },
      "source": [
        "## **Applying KMeans Classifier** : Cluster = 4"
      ]
    },
    {
      "cell_type": "code",
      "metadata": {
        "id": "BWqAeT4lkpGL"
      },
      "source": [
        "#Applying Kmeans classifier\n",
        "kmeans = KMeans(n_clusters=4,init = 'k-means++', max_iter = 100, n_init = 10, random_state = 0)\n",
        "\n",
        "y_kmeans = kmeans.fit_predict(x)"
      ],
      "execution_count": 39,
      "outputs": []
    },
    {
      "cell_type": "markdown",
      "metadata": {
        "id": "eZSzsyhokpGL"
      },
      "source": [
        "### **Visualizing the Clusters**\n",
        "\n",
        "\n"
      ]
    },
    {
      "cell_type": "code",
      "metadata": {
        "colab": {
          "base_uri": "https://localhost:8080/"
        },
        "id": "x7HJMGQPkpGM",
        "outputId": "13d12c5d-3eb1-4f64-f830-c5bfb73e95a1"
      },
      "source": [
        "kmeans.cluster_centers_"
      ],
      "execution_count": 40,
      "outputs": [
        {
          "output_type": "execute_result",
          "data": {
            "text/plain": [
              "array([[8.5       , 5.5       ],\n",
              "       [3.        , 5.        ],\n",
              "       [7.57142857, 2.        ],\n",
              "       [5.5       , 6.75      ]])"
            ]
          },
          "metadata": {},
          "execution_count": 40
        }
      ]
    },
    {
      "cell_type": "code",
      "metadata": {
        "colab": {
          "base_uri": "https://localhost:8080/",
          "height": 282
        },
        "id": "DnNOD4vYkpGN",
        "outputId": "646f1b6a-0220-4e84-df1c-8addaef28a2e"
      },
      "source": [
        "# Visualising the clusters - On the first two columns\n",
        "plt.scatter(x[y_kmeans == 0, 0], x[y_kmeans == 0, 1], \n",
        "            s = 100, c = 'red', label = 'cluster-1')\n",
        "plt.scatter(x[y_kmeans == 1, 0], x[y_kmeans == 1, 1], \n",
        "            s = 100, c = 'blue', label = 'cluster-2')\n",
        "plt.scatter(x[y_kmeans == 2, 0], x[y_kmeans == 2, 1],\n",
        "            s = 100, c = 'green', label = 'cluster-3')\n",
        "plt.scatter(x[y_kmeans == 3, 0], x[y_kmeans == 3, 1],\n",
        "            s = 100, c = 'orange', label = 'cluster-4')\n",
        "\n",
        "# Plotting the centroids of the clusters\n",
        "plt.scatter(kmeans.cluster_centers_[:, 0], kmeans.cluster_centers_[:,1], \n",
        "            s = 50, c = 'black', label = 'Centroids')\n",
        "\n",
        "plt.legend()"
      ],
      "execution_count": 41,
      "outputs": [
        {
          "output_type": "execute_result",
          "data": {
            "text/plain": [
              "<matplotlib.legend.Legend at 0x7f894deb4f10>"
            ]
          },
          "metadata": {},
          "execution_count": 41
        },
        {
          "output_type": "display_data",
          "data": {
            "image/png": "[encoded data removed]",
            "text/plain": [
              "<Figure size 432x288 with 1 Axes>"
            ]
          },
          "metadata": {
            "needs_background": "light"
          }
        }
      ]
    }
  ]
}